{
 "cells": [
  {
   "cell_type": "markdown",
   "id": "95587ded-9e93-4ba9-93ae-050d7b3eb4f0",
   "metadata": {},
   "source": [
    "## What is Smoothing/Denoising?\n",
    "Smoothing (or denoising) reduces noise in an image by averaging or filtering pixel intensity values. Noise refers to unwanted variations in pixel intensity caused by imaging hardware, environmental factors, or digital compression."
   ]
  },
  {
   "cell_type": "markdown",
   "id": "8d282002-d6d7-4a35-b44e-28ac4fb6f88b",
   "metadata": {},
   "source": [
    "### 1. Averaging (Mean Filtering)\n",
    "\n",
    "Each pixel's value is replaced by the average of its surrounding pixels within a specified kernel (filter) size.\n",
    "\n",
    "It blurs the image uniformly but is less effective at preserving edges."
   ]
  },
  {
   "cell_type": "code",
   "execution_count": 2,
   "id": "f4a45b37-4e11-449b-8c40-7ea286de8bf8",
   "metadata": {
    "tags": []
   },
   "outputs": [
    {
     "data": {
      "text/plain": [
       "-1"
      ]
     },
     "execution_count": 2,
     "metadata": {},
     "output_type": "execute_result"
    }
   ],
   "source": [
    "import cv2\n",
    "import numpy as np\n",
    "from matplotlib import pyplot as plt\n",
    "img = cv2.imread('m2_images/BSE_Google_noisy.jpg', 1)\n",
    "cv2.imshow(\"Original\", img)\n",
    "cv2.waitKey(0); \n",
    "cv2.destroyAllWindows(); \n",
    "cv2.waitKey(1)"
   ]
  },
  {
   "cell_type": "code",
   "execution_count": 3,
   "id": "7e79c1e7-33ea-46c8-8f03-25ef3022be36",
   "metadata": {
    "tags": []
   },
   "outputs": [
    {
     "data": {
      "text/plain": [
       "-1"
      ]
     },
     "execution_count": 3,
     "metadata": {},
     "output_type": "execute_result"
    }
   ],
   "source": [
    "blur = cv2.blur(img,(5,5))   #Convolution with a normalized filter. Same as above for this example.\n",
    "cv2.imshow(\"Blur\", blur)\n",
    "cv2.imshow(\"Original\", img)\n",
    "cv2.waitKey(0); \n",
    "cv2.destroyAllWindows(); \n",
    "cv2.waitKey(1)"
   ]
  },
  {
   "cell_type": "code",
   "execution_count": 5,
   "id": "7919ace4-7d93-458b-8800-79469e220afb",
   "metadata": {
    "tags": []
   },
   "outputs": [
    {
     "data": {
      "text/plain": [
       "array([[0.04, 0.04, 0.04, 0.04, 0.04],\n",
       "       [0.04, 0.04, 0.04, 0.04, 0.04],\n",
       "       [0.04, 0.04, 0.04, 0.04, 0.04],\n",
       "       [0.04, 0.04, 0.04, 0.04, 0.04],\n",
       "       [0.04, 0.04, 0.04, 0.04, 0.04]], dtype=float32)"
      ]
     },
     "execution_count": 5,
     "metadata": {},
     "output_type": "execute_result"
    }
   ],
   "source": [
    "kernel = np.ones((5,5),np.float32)/25\n",
    "kernel"
   ]
  },
  {
   "cell_type": "code",
   "execution_count": 6,
   "id": "bc4538d2-9ad8-4a0d-bf74-2f43300e2380",
   "metadata": {
    "tags": []
   },
   "outputs": [
    {
     "data": {
      "text/plain": [
       "-1"
      ]
     },
     "execution_count": 6,
     "metadata": {},
     "output_type": "execute_result"
    }
   ],
   "source": [
    "filt_2D = cv2.filter2D(img,-1,kernel)    #Convolution using the kernel we provide\n",
    "cv2.imshow(\"2D filtered\", filt_2D)\n",
    "cv2.imshow(\"Blur\", blur)\n",
    "cv2.imshow(\"Original\", img)\n",
    "cv2.waitKey(0); \n",
    "cv2.destroyAllWindows(); \n",
    "cv2.waitKey(1)"
   ]
  },
  {
   "cell_type": "code",
   "execution_count": 8,
   "id": "ca07b02b-cf3d-4e21-8ea3-25421368587c",
   "metadata": {
    "tags": []
   },
   "outputs": [
    {
     "data": {
      "text/plain": [
       "-1"
      ]
     },
     "execution_count": 8,
     "metadata": {},
     "output_type": "execute_result"
    }
   ],
   "source": [
    "#sharpening the image to enhance the edges\n",
    "kernel_s = np.array([[0, -1, 0],\n",
    "                   [-1,  5, -1],\n",
    "                   [0, -1, 0]], np.float32)\n",
    "sharpened_img = cv2.filter2D(img, -1, kernel_s)\n",
    "\n",
    "filt_2Ds = cv2.filter2D(img,-1,kernel_s)    #Convolution using the kernel we provide\n",
    "cv2.imshow(\"2D sharpening\", filt_2Ds)\n",
    "cv2.imshow(\"Blur\", blur)\n",
    "cv2.imshow(\"Original\", img)\n",
    "cv2.waitKey(0); \n",
    "cv2.destroyAllWindows(); \n",
    "cv2.waitKey(1)"
   ]
  },
  {
   "cell_type": "markdown",
   "id": "62c97a20-a8e0-48b4-bf3c-b4175c0d7060",
   "metadata": {},
   "source": [
    "### 2. Median Filtering\n",
    "Replaces each pixel's value with the median value of the pixels in the kernel.\n",
    "\n",
    "Better at removing salt-and-pepper noise and preserving edges compared to Gaussian blurring.\n",
    "\n",
    "Salt-and-pepper noise is a type of image noise characterized by the presence of random white (salt)\\\n",
    "and black (pepper) pixels scattered throughout an image. This noise occurs due to sharp, sudden \\\n",
    "disturbances in image signals, often caused by faulty sensors, transmission errors, or data compression."
   ]
  },
  {
   "cell_type": "code",
   "execution_count": 10,
   "id": "992abcac-d25f-4c39-9547-62d2b89b5fac",
   "metadata": {
    "tags": []
   },
   "outputs": [
    {
     "data": {
      "text/plain": [
       "-1"
      ]
     },
     "execution_count": 10,
     "metadata": {},
     "output_type": "execute_result"
    }
   ],
   "source": [
    "median_blur = cv2.medianBlur(img,5)  #Using kernel size 5. Better on edges compared to gaussian.\n",
    "\n",
    "cv2.imshow(\"2D filtered\", filt_2D)\n",
    "cv2.imshow(\"Median Blur\", median_blur)\n",
    "cv2.imshow(\"Original\", img)\n",
    "cv2.waitKey(0); \n",
    "cv2.destroyAllWindows(); \n",
    "cv2.waitKey(1)"
   ]
  },
  {
   "cell_type": "markdown",
   "id": "9ae0424f-58f3-4d68-905e-6d8af7402947",
   "metadata": {},
   "source": [
    "### 3. Bilateral Filtering\n",
    "\n",
    "Applies a weighted filter that considers both spatial distance and intensity difference.\\\n",
    "Pixels close in intensity and space contribute more to the result.\\\n",
    "Very effective at noise removal while retaining edges, but computationally expensive."
   ]
  },
  {
   "cell_type": "code",
   "execution_count": 12,
   "id": "3f80976c-2b4f-4005-ac2b-36cb49a952d6",
   "metadata": {
    "tags": []
   },
   "outputs": [],
   "source": [
    "bilateral_blur = cv2.bilateralFilter(img,9,75,75)  \n",
    "\n",
    "\n",
    "cv2.imshow(\"Original\", img)\n",
    "cv2.imshow(\"2D filtered\", filt_2D)\n",
    "cv2.imshow(\"Blur\", blur)\n",
    "cv2.imshow(\"Median Blur\", median_blur)\n",
    "cv2.imshow(\"Bilateral\", bilateral_blur)\n",
    "cv2.waitKey(0)          \n",
    "cv2.destroyAllWindows()\n",
    "cv2.waitKey(1)"
   ]
  },
  {
   "cell_type": "code",
   "execution_count": null,
   "id": "fad6861e-b8f4-4d8b-9521-db6b54572eec",
   "metadata": {},
   "outputs": [],
   "source": []
  }
 ],
 "metadata": {
  "kernelspec": {
   "display_name": "Python 3 (ipykernel)",
   "language": "python",
   "name": "python3"
  },
  "language_info": {
   "codemirror_mode": {
    "name": "ipython",
    "version": 3
   },
   "file_extension": ".py",
   "mimetype": "text/x-python",
   "name": "python",
   "nbconvert_exporter": "python",
   "pygments_lexer": "ipython3",
   "version": "3.11.4"
  }
 },
 "nbformat": 4,
 "nbformat_minor": 5
}
